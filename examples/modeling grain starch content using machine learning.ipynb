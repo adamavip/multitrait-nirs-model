{
 "cells": [
  {
   "cell_type": "markdown",
   "id": "1addaf5f",
   "metadata": {},
   "source": [
    "## Import working packages"
   ]
  },
  {
   "cell_type": "code",
   "execution_count": 15,
   "id": "4b76a41b",
   "metadata": {},
   "outputs": [],
   "source": [
    "import sys\n",
    "sys.path.insert(0, \"../src/\")"
   ]
  },
  {
   "cell_type": "code",
   "execution_count": 65,
   "id": "ef32945c",
   "metadata": {},
   "outputs": [],
   "source": [
    "from data import load_data\n",
    "import preprocessing\n",
    "from models import define_convModel, train_model, save_model, convModel5\n",
    "import utils"
   ]
  },
  {
   "cell_type": "code",
   "execution_count": 64,
   "id": "fa64eace",
   "metadata": {},
   "outputs": [
    {
     "data": {
      "text/plain": [
       "<module 'models' from '../src\\\\models.py'>"
      ]
     },
     "execution_count": 64,
     "metadata": {},
     "output_type": "execute_result"
    }
   ],
   "source": [
    "from importlib import reload\n",
    "reload(data)\n",
    "reload(models)"
   ]
  },
  {
   "cell_type": "markdown",
   "id": "9772d466",
   "metadata": {},
   "source": [
    "## Load, augment and preprocess data"
   ]
  },
  {
   "cell_type": "code",
   "execution_count": 31,
   "id": "cd48a83d",
   "metadata": {},
   "outputs": [],
   "source": [
    "fn = \"../data/PMIGap_Digestible starch HLR.csv\""
   ]
  },
  {
   "cell_type": "code",
   "execution_count": 32,
   "id": "8182d55d",
   "metadata": {},
   "outputs": [],
   "source": [
    "target = 'Starch%'\n",
    "sensor = 'Foss'"
   ]
  },
  {
   "cell_type": "code",
   "execution_count": 36,
   "id": "aa13ffa4",
   "metadata": {},
   "outputs": [],
   "source": [
    "X_train, y_train, X_val, y_val,yscaler, train_metadata, test_meta = load_data(fname=fn, target =target)"
   ]
  },
  {
   "cell_type": "code",
   "execution_count": 37,
   "id": "7e0e4905",
   "metadata": {},
   "outputs": [
    {
     "name": "stdout",
     "output_type": "stream",
     "text": [
      "(24100, 513, 1) (61, 513, 1)\n"
     ]
    }
   ],
   "source": [
    "print(X_train.shape, X_val.shape)"
   ]
  },
  {
   "cell_type": "markdown",
   "id": "84e793a2",
   "metadata": {},
   "source": [
    "## Define model"
   ]
  },
  {
   "cell_type": "code",
   "execution_count": 66,
   "id": "371e68b7",
   "metadata": {},
   "outputs": [
    {
     "name": "stdout",
     "output_type": "stream",
     "text": [
      "INFO:tensorflow:Using MirroredStrategy with devices ('/job:localhost/replica:0/task:0/device:GPU:0',)\n",
      "Number of devices: 1\n",
      "-Number of parameters:  1055257\n",
      "Model compilation\n",
      "\n"
     ]
    }
   ],
   "source": [
    "NIRS_feature_count = X_train.shape[1]\n",
    "NIRS_dim = X_train.shape[2]\n",
    "\n",
    "# Define a neural network\n",
    "model = define_convModel(convModel5, X_train) "
   ]
  },
  {
   "cell_type": "markdown",
   "id": "be026af3",
   "metadata": {},
   "source": [
    "## Train model"
   ]
  },
  {
   "cell_type": "code",
   "execution_count": null,
   "id": "81a20cb7",
   "metadata": {},
   "outputs": [
    {
     "name": "stdout",
     "output_type": "stream",
     "text": [
      "Model training started...\n"
     ]
    }
   ],
   "source": [
    "model = train_model(model, X_train, y_train, X_val, y_val, model_type='DL')"
   ]
  },
  {
   "cell_type": "code",
   "execution_count": null,
   "id": "303d9b67",
   "metadata": {},
   "outputs": [],
   "source": []
  }
 ],
 "metadata": {
  "kernelspec": {
   "display_name": "Python 3 (ipykernel)",
   "language": "python",
   "name": "python3"
  },
  "language_info": {
   "codemirror_mode": {
    "name": "ipython",
    "version": 3
   },
   "file_extension": ".py",
   "mimetype": "text/x-python",
   "name": "python",
   "nbconvert_exporter": "python",
   "pygments_lexer": "ipython3",
   "version": "3.8.2"
  }
 },
 "nbformat": 4,
 "nbformat_minor": 5
}
