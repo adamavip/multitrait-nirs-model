{
 "cells": [
  {
   "cell_type": "markdown",
   "id": "1addaf5f",
   "metadata": {},
   "source": [
    "## Import working packages"
   ]
  },
  {
   "cell_type": "code",
   "execution_count": 38,
   "id": "4b76a41b",
   "metadata": {},
   "outputs": [],
   "source": [
    "import sys\n",
    "sys.path.insert(0, \"../src/\")"
   ]
  },
  {
   "cell_type": "code",
   "execution_count": 75,
   "id": "ef32945c",
   "metadata": {},
   "outputs": [],
   "source": [
    "import data, models, utils\n",
    "from data import load_data, load_data_train_test\n",
    "import preprocessing\n",
    "from models import define_convModel, train_model, save_model, convModel5, convModel2\n",
    "from utils import predict_and_show_metrics, export_results, save_scaler"
   ]
  },
  {
   "cell_type": "code",
   "execution_count": 74,
   "id": "4821d220",
   "metadata": {},
   "outputs": [
    {
     "data": {
      "text/plain": [
       "<module 'utils' from '../src\\\\utils.py'>"
      ]
     },
     "execution_count": 74,
     "metadata": {},
     "output_type": "execute_result"
    }
   ],
   "source": [
    "from importlib import reload\n",
    "reload(data)\n",
    "reload(models)\n",
    "reload(utils)"
   ]
  },
  {
   "cell_type": "markdown",
   "id": "90c43254",
   "metadata": {},
   "source": [
    "## Load, augment and preprocess data"
   ]
  },
  {
   "cell_type": "code",
   "execution_count": 64,
   "id": "4af8d04b",
   "metadata": {},
   "outputs": [],
   "source": [
    "fn = \"../data/PMIGap_Digestible Starch HLR.csv\"\n",
    "train_fn = \"../data/train_manual.csv\"\n",
    "test_fn = \"../data/test_manual.csv\""
   ]
  },
  {
   "cell_type": "code",
   "execution_count": 65,
   "id": "2b3e7230",
   "metadata": {},
   "outputs": [],
   "source": [
    "target = 'Starch%'\n",
    "sensor = 'Foss'\n",
    "crop = 'Millet'"
   ]
  },
  {
   "cell_type": "code",
   "execution_count": 76,
   "id": "476611a2",
   "metadata": {},
   "outputs": [
    {
     "name": "stdout",
     "output_type": "stream",
     "text": [
      "Start Saving Scaler\n",
      "Saving Scaler Complete!\n"
     ]
    }
   ],
   "source": [
    "X_train, y_train, X_val, y_val, xscaler, yscaler, train_metadata, test_meta = load_data_train_test(train_fname=train_fn, \n",
    "                                                                                         test_fname= test_fn, \n",
    "                                                                                         target =target,sensor=sensor,\n",
    "                                                                                         crop=crop)"
   ]
  },
  {
   "cell_type": "code",
   "execution_count": 71,
   "id": "9266e9c1",
   "metadata": {},
   "outputs": [
    {
     "name": "stdout",
     "output_type": "stream",
     "text": [
      "(22300, 513, 1) (79, 513, 1)\n"
     ]
    }
   ],
   "source": [
    "print(X_train.shape, X_val.shape)"
   ]
  },
  {
   "cell_type": "code",
   "execution_count": 63,
   "id": "b429a680",
   "metadata": {},
   "outputs": [],
   "source": [
    "#save_scaler(xscaler, yscaler, target=\"Starch\", sensor='Foss',crop='Millet')"
   ]
  },
  {
   "cell_type": "markdown",
   "id": "647b86d7",
   "metadata": {},
   "source": [
    "## Define model"
   ]
  },
  {
   "cell_type": "code",
   "execution_count": 14,
   "id": "d1417c57",
   "metadata": {},
   "outputs": [
    {
     "name": "stdout",
     "output_type": "stream",
     "text": [
      "INFO:tensorflow:Using MirroredStrategy with devices ('/job:localhost/replica:0/task:0/device:GPU:0',)\n",
      "Number of devices: 1\n",
      "INFO:tensorflow:Reduce to /job:localhost/replica:0/task:0/device:CPU:0 then broadcast to ('/job:localhost/replica:0/task:0/device:CPU:0',).\n",
      "INFO:tensorflow:Reduce to /job:localhost/replica:0/task:0/device:CPU:0 then broadcast to ('/job:localhost/replica:0/task:0/device:CPU:0',).\n",
      "INFO:tensorflow:Reduce to /job:localhost/replica:0/task:0/device:CPU:0 then broadcast to ('/job:localhost/replica:0/task:0/device:CPU:0',).\n",
      "INFO:tensorflow:Reduce to /job:localhost/replica:0/task:0/device:CPU:0 then broadcast to ('/job:localhost/replica:0/task:0/device:CPU:0',).\n",
      "INFO:tensorflow:Reduce to /job:localhost/replica:0/task:0/device:CPU:0 then broadcast to ('/job:localhost/replica:0/task:0/device:CPU:0',).\n",
      "INFO:tensorflow:Reduce to /job:localhost/replica:0/task:0/device:CPU:0 then broadcast to ('/job:localhost/replica:0/task:0/device:CPU:0',).\n",
      "INFO:tensorflow:Reduce to /job:localhost/replica:0/task:0/device:CPU:0 then broadcast to ('/job:localhost/replica:0/task:0/device:CPU:0',).\n",
      "INFO:tensorflow:Reduce to /job:localhost/replica:0/task:0/device:CPU:0 then broadcast to ('/job:localhost/replica:0/task:0/device:CPU:0',).\n",
      "INFO:tensorflow:Reduce to /job:localhost/replica:0/task:0/device:CPU:0 then broadcast to ('/job:localhost/replica:0/task:0/device:CPU:0',).\n",
      "INFO:tensorflow:Reduce to /job:localhost/replica:0/task:0/device:CPU:0 then broadcast to ('/job:localhost/replica:0/task:0/device:CPU:0',).\n",
      "-Number of parameters:  2663049\n",
      "Model compilation\n",
      "\n"
     ]
    }
   ],
   "source": [
    "NIRS_feature_count = X_train.shape[1]\n",
    "NIRS_dim = X_train.shape[2]\n",
    "\n",
    "# Define a neural network\n",
    "model = define_convModel(convModel2, X_train) "
   ]
  },
  {
   "cell_type": "markdown",
   "id": "1dfe843a",
   "metadata": {},
   "source": [
    "## Train model"
   ]
  },
  {
   "cell_type": "code",
   "execution_count": 15,
   "id": "0232e486",
   "metadata": {},
   "outputs": [
    {
     "name": "stdout",
     "output_type": "stream",
     "text": [
      "Model training started...\n",
      "Model training complete!\n"
     ]
    }
   ],
   "source": [
    "model = train_model(model, X_train, y_train, X_val, y_val, model_type='DL')"
   ]
  },
  {
   "cell_type": "markdown",
   "id": "ed4c0ebe",
   "metadata": {},
   "source": [
    "## Make predictions"
   ]
  },
  {
   "cell_type": "code",
   "execution_count": 16,
   "id": "99d07803",
   "metadata": {},
   "outputs": [
    {
     "name": "stdout",
     "output_type": "stream",
     "text": [
      "Saving model..\n",
      "Saving ended\n",
      "Making predictions\n",
      "\n",
      "\n",
      "\n",
      "==============================\n",
      "\n",
      "\n",
      "\n",
      " Evaluation metrics\n",
      "\n",
      "\n",
      "R2 train:  0.9969929844995142\n",
      "RMSE train:  1.45009881237664\n",
      "RPD train:  18.236113186706792\n",
      "R2 val:  0.9770893148668549\n",
      "RMSE val:  4.184417068876716\n",
      "RPD val:  6.606645456658015\n",
      "\n",
      "\n",
      "\n",
      "==============================\n"
     ]
    }
   ],
   "source": [
    "y_train_orig,y_train_pred_orig,y_val_orig,y_val_pred_orig = predict_and_show_metrics(model, X_train, y_train, X_val, y_val, yscaler)"
   ]
  },
  {
   "cell_type": "markdown",
   "id": "9ac11085",
   "metadata": {},
   "source": [
    "## Export results"
   ]
  },
  {
   "cell_type": "code",
   "execution_count": 17,
   "id": "b4b12a30",
   "metadata": {},
   "outputs": [],
   "source": [
    "export_results(y_train_orig,y_train_pred_orig,train_metadata,\n",
    "               y_val_orig,y_val_pred_orig,test_meta, target='Digestible_Starch', model_type='CNN',sensor='HLR',crop='Millet')"
   ]
  },
  {
   "cell_type": "markdown",
   "id": "ce4722e3",
   "metadata": {},
   "source": [
    "## Save the model"
   ]
  },
  {
   "cell_type": "code",
   "execution_count": 23,
   "id": "63c2a3a9",
   "metadata": {},
   "outputs": [
    {
     "name": "stdout",
     "output_type": "stream",
     "text": [
      "Start Saving Model...\n",
      "Saving Complete!\n"
     ]
    }
   ],
   "source": [
    "save_model(model, model_type=\"DL\",target=\"DigestibleStarch\",sensor=\"HLR\",crop=\"Millet\")"
   ]
  },
  {
   "cell_type": "code",
   "execution_count": null,
   "id": "7f348f47",
   "metadata": {},
   "outputs": [],
   "source": []
  },
  {
   "cell_type": "code",
   "execution_count": null,
   "id": "fe75626a",
   "metadata": {},
   "outputs": [],
   "source": []
  }
 ],
 "metadata": {
  "kernelspec": {
   "display_name": "Python 3 (ipykernel)",
   "language": "python",
   "name": "python3"
  },
  "language_info": {
   "codemirror_mode": {
    "name": "ipython",
    "version": 3
   },
   "file_extension": ".py",
   "mimetype": "text/x-python",
   "name": "python",
   "nbconvert_exporter": "python",
   "pygments_lexer": "ipython3",
   "version": "3.8.2"
  }
 },
 "nbformat": 4,
 "nbformat_minor": 5
}
