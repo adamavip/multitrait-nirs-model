{
 "cells": [
  {
   "cell_type": "markdown",
   "id": "1addaf5f",
   "metadata": {},
   "source": [
    "## Import working packages"
   ]
  },
  {
   "cell_type": "code",
   "execution_count": 15,
   "id": "4b76a41b",
   "metadata": {},
   "outputs": [],
   "source": [
    "import sys\n",
    "sys.path.insert(0, \"../src/\")"
   ]
  },
  {
   "cell_type": "code",
   "execution_count": 91,
   "id": "ef32945c",
   "metadata": {},
   "outputs": [],
   "source": [
    "from data import load_data\n",
    "import preprocessing\n",
    "from models import define_convModel, train_model, save_model, convModel5, convModel2\n",
    "from utils import predict_and_show_metrics, export_results"
   ]
  },
  {
   "cell_type": "code",
   "execution_count": 90,
   "id": "dbae0a3c",
   "metadata": {},
   "outputs": [
    {
     "data": {
      "text/plain": [
       "<module 'utils' from '../src\\\\utils.py'>"
      ]
     },
     "execution_count": 90,
     "metadata": {},
     "output_type": "execute_result"
    }
   ],
   "source": [
    "from importlib import reload\n",
    "reload(data)\n",
    "reload(models)\n",
    "reload(utils)"
   ]
  },
  {
   "cell_type": "markdown",
   "id": "a45365b9",
   "metadata": {},
   "source": [
    "## Load, augment and preprocess data"
   ]
  },
  {
   "cell_type": "code",
   "execution_count": 31,
   "id": "41f1cf30",
   "metadata": {},
   "outputs": [],
   "source": [
    "fn = \"../data/PMIGap_Digestible starch HLR.csv\""
   ]
  },
  {
   "cell_type": "code",
   "execution_count": 32,
   "id": "5030e4c7",
   "metadata": {},
   "outputs": [],
   "source": [
    "target = 'Starch%'\n",
    "sensor = 'Foss'"
   ]
  },
  {
   "cell_type": "code",
   "execution_count": 73,
   "id": "de128808",
   "metadata": {},
   "outputs": [],
   "source": [
    "X_train, y_train, X_val, y_val,yscaler, train_metadata, test_meta = load_data(fname=fn, target =target)"
   ]
  },
  {
   "cell_type": "code",
   "execution_count": 74,
   "id": "1d7bddf6",
   "metadata": {},
   "outputs": [
    {
     "name": "stdout",
     "output_type": "stream",
     "text": [
      "(24100, 513, 1) (61, 513, 1)\n"
     ]
    }
   ],
   "source": [
    "print(X_train.shape, X_val.shape)"
   ]
  },
  {
   "cell_type": "markdown",
   "id": "6fa293a8",
   "metadata": {},
   "source": [
    "## Define model"
   ]
  },
  {
   "cell_type": "code",
   "execution_count": 75,
   "id": "df3fddae",
   "metadata": {},
   "outputs": [
    {
     "name": "stdout",
     "output_type": "stream",
     "text": [
      "INFO:tensorflow:Using MirroredStrategy with devices ('/job:localhost/replica:0/task:0/device:GPU:0',)\n",
      "Number of devices: 1\n",
      "-Number of parameters:  2663049\n",
      "Model compilation\n",
      "\n"
     ]
    }
   ],
   "source": [
    "NIRS_feature_count = X_train.shape[1]\n",
    "NIRS_dim = X_train.shape[2]\n",
    "\n",
    "# Define a neural network\n",
    "model = define_convModel(convModel2, X_train) "
   ]
  },
  {
   "cell_type": "markdown",
   "id": "eb115dde",
   "metadata": {},
   "source": [
    "## Train model"
   ]
  },
  {
   "cell_type": "code",
   "execution_count": 76,
   "id": "6dc8b627",
   "metadata": {},
   "outputs": [
    {
     "name": "stdout",
     "output_type": "stream",
     "text": [
      "Model training started...\n",
      "Model training complete!\n"
     ]
    }
   ],
   "source": [
    "model = train_model(model, X_train, y_train, X_val, y_val, model_type='DL')"
   ]
  },
  {
   "cell_type": "markdown",
   "id": "362856bf",
   "metadata": {},
   "source": [
    "## Make predictions"
   ]
  },
  {
   "cell_type": "code",
   "execution_count": 77,
   "id": "8057f5a8",
   "metadata": {},
   "outputs": [
    {
     "name": "stdout",
     "output_type": "stream",
     "text": [
      "Saving model..\n",
      "Saving ended\n",
      "Making predictions\n",
      "\n",
      "\n",
      "\n",
      "==============================\n",
      "\n",
      "\n",
      "\n",
      " Evaluation metrics\n",
      "\n",
      "\n",
      "R2 train:  0.9948491502953993\n",
      "RMSE train:  1.8427872375370549\n",
      "RPD train:  13.933511689128185\n",
      "R2 val:  0.9516153951943205\n",
      "RMSE val:  6.660671675146926\n",
      "RPD val:  4.546177818711908\n",
      "\n",
      "\n",
      "\n",
      "==============================\n"
     ]
    }
   ],
   "source": [
    "y_train_orig,y_train_pred_orig,y_val_orig,y_val_pred_orig = predict_and_show_metrics(model, X_train, y_train, X_val, y_val, yscaler)"
   ]
  },
  {
   "cell_type": "code",
   "execution_count": 92,
   "id": "ac3db5fb",
   "metadata": {},
   "outputs": [],
   "source": [
    "export_results(y_train_orig,y_train_pred_orig,train_metadata,\n",
    "               y_val_orig,y_val_pred_orig,test_meta, target=target, model_type='CNN',sensor='HLR',crop='millet')"
   ]
  },
  {
   "cell_type": "code",
   "execution_count": null,
   "id": "bfa2ede4",
   "metadata": {},
   "outputs": [],
   "source": []
  }
 ],
 "metadata": {
  "kernelspec": {
   "display_name": "Python 3 (ipykernel)",
   "language": "python",
   "name": "python3"
  },
  "language_info": {
   "codemirror_mode": {
    "name": "ipython",
    "version": 3
   },
   "file_extension": ".py",
   "mimetype": "text/x-python",
   "name": "python",
   "nbconvert_exporter": "python",
   "pygments_lexer": "ipython3",
   "version": "3.8.2"
  }
 },
 "nbformat": 4,
 "nbformat_minor": 5
}
